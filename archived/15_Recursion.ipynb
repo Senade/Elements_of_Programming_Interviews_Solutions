{
 "cells": [
  {
   "cell_type": "markdown",
   "metadata": {},
   "source": [
    "# Chapter 15: Recursion"
   ]
  },
  {
   "cell_type": "markdown",
   "metadata": {},
   "source": [
    "## 15.2 Generate all non-attacking placements of n-queens"
   ]
  },
  {
   "cell_type": "code",
   "execution_count": 63,
   "metadata": {},
   "outputs": [
    {
     "name": "stdout",
     "output_type": "stream",
     "text": [
      "[[1, 3, 0, 2], [2, 0, 3, 1]]\n"
     ]
    }
   ],
   "source": [
    "def n_queens(n):\n",
    "    \"\"\"\n",
    "    Generates all posible non-attacking placement of n-queens on a n*n chessboard\n",
    "    \"\"\"\n",
    "    def backtrack(row, partial):\n",
    "        if row == n:\n",
    "            res.append(partial.copy())\n",
    "        else:\n",
    "            for col in range(n):\n",
    "                if all(abs(c - col) not in (0, row - i) \n",
    "                       for i, c in enumerate(partial[:row])):\n",
    "                    partial[row] = col\n",
    "                    backtrack(row + 1, partial)\n",
    "    res = []\n",
    "    backtrack(0, [0] * n)\n",
    "    return res\n",
    "\n",
    "\n",
    "# Tests\n",
    "print(n_queens(4))"
   ]
  },
  {
   "cell_type": "markdown",
   "metadata": {},
   "source": [
    "### Variant: Compute the number of non-attacking placements of `n` queens on an `n x n` chessboard"
   ]
  },
  {
   "cell_type": "code",
   "execution_count": 83,
   "metadata": {},
   "outputs": [
    {
     "name": "stdout",
     "output_type": "stream",
     "text": [
      "2\n"
     ]
    }
   ],
   "source": [
    "def n_queen_count(n):\n",
    "    \"\"\"\n",
    "    Returns the number of all posible non-attacking placement of n-queens on a n*n chessboard\n",
    "    \"\"\"\n",
    "    def backtrack(row, partial):\n",
    "        if row == n:\n",
    "            nonlocal count\n",
    "            count += 1\n",
    "        else:\n",
    "            for col in range(n):\n",
    "                if all(abs(c - col) not in (0, row - i) \n",
    "                       for i, c in enumerate(partial[:row])):\n",
    "                    partial[row] = col\n",
    "                    backtrack(row + 1, partial)\n",
    "    count = 0\n",
    "    backtrack(0, [0] * n)\n",
    "    return count\n",
    "\n",
    "# Tests\n",
    "print(n_queen_count(4))"
   ]
  },
  {
   "cell_type": "markdown",
   "metadata": {},
   "source": [
    "## 15.3 Generate Permutations"
   ]
  },
  {
   "cell_type": "code",
   "execution_count": 48,
   "metadata": {},
   "outputs": [
    {
     "name": "stdout",
     "output_type": "stream",
     "text": [
      "[[1, 2, 3], [1, 3, 2], [2, 1, 3], [2, 3, 1], [3, 2, 1], [3, 1, 2]]\n"
     ]
    }
   ],
   "source": [
    "def permutations(A):\n",
    "    \"\"\"\n",
    "    Given an array of objects, return a list of all permutations of A\n",
    "    \"\"\"\n",
    "    def backtrack(candidate_idx, partial):\n",
    "        if candidate_idx == len(A):\n",
    "            res.append(partial)\n",
    "        else:\n",
    "            # Find candidates and backtrack\n",
    "            for c in range(candidate_idx, len(A)):\n",
    "                A[candidate_idx], A[c] = A[c], A[candidate_idx]\n",
    "                backtrack(candidate_idx + 1, partial + [A[candidate_idx]])\n",
    "                A[c], A[candidate_idx] = A[candidate_idx], A[c]  \n",
    "    res = []\n",
    "    backtrack(0, [])\n",
    "    return res\n",
    "\n",
    "# Tests\n",
    "print(permutations(list(range(1, 4))))"
   ]
  },
  {
   "cell_type": "markdown",
   "metadata": {},
   "source": [
    "## 15.4 Generate the power set"
   ]
  },
  {
   "cell_type": "code",
   "execution_count": 19,
   "metadata": {},
   "outputs": [
    {
     "name": "stdout",
     "output_type": "stream",
     "text": [
      "[[1, 2, 3], [1, 2], [1, 3], [1], [2, 3], [2], [3], []]\n",
      "[['A', 'B', 'C'], ['A', 'B'], ['A', 'C'], ['A'], ['B', 'C'], ['B'], ['C'], []]\n"
     ]
    }
   ],
   "source": [
    "def power_set(S):\n",
    "    \"\"\"\n",
    "    Given a set S, returns a list of all subsets of S including {} and S itself\n",
    "    \"\"\"\n",
    "    def backtrack(candidate_idx, partial):\n",
    "        if candidate_idx == len(S):\n",
    "            res.append(partial.copy())\n",
    "        else:\n",
    "            backtrack(candidate_idx + 1, partial + [S[candidate_idx]])\n",
    "            backtrack(candidate_idx + 1, partial)\n",
    "    \n",
    "    res = []\n",
    "    backtrack(0, [])\n",
    "    return res\n",
    "    \n",
    "# Tests\n",
    "print(power_set([n for n in range(1, 4)]))\n",
    "print(power_set([\"A\", \"B\", \"C\"]))"
   ]
  },
  {
   "cell_type": "markdown",
   "metadata": {},
   "source": [
    "## 15.5 Generate all subsets of size `k`"
   ]
  },
  {
   "cell_type": "code",
   "execution_count": 3,
   "metadata": {},
   "outputs": [
    {
     "name": "stdout",
     "output_type": "stream",
     "text": [
      "[['A', 'B'], ['A', 'C'], ['B', 'C']]\n",
      "[[1, 2], [1, 3], [1, 4], [1, 5], [2, 3], [2, 4], [2, 5], [3, 4], [3, 5], [4, 5]]\n"
     ]
    }
   ],
   "source": [
    "def k_size_subsets(S, k):\n",
    "    \"\"\"\n",
    "    Given a set S, returns a list of all subsets of S whose size is `k`\n",
    "    \"\"\"\n",
    "    def backtrack(candidate_idx, partial):\n",
    "        if len(partial) == k:\n",
    "            res.append(partial.copy())\n",
    "        elif candidate_idx >= len(S):\n",
    "            return\n",
    "        else:\n",
    "            backtrack(candidate_idx + 1, partial + [S[candidate_idx]])\n",
    "            backtrack(candidate_idx + 1, partial)\n",
    "    res = []\n",
    "    backtrack(0, [])\n",
    "    return res\n",
    "\n",
    "# Tests\n",
    "print(k_size_subsets([\"A\", \"B\", \"C\"], 2))\n",
    "print(k_size_subsets(list(range(1, 6)), 2))"
   ]
  },
  {
   "cell_type": "markdown",
   "metadata": {},
   "source": [
    "## 15.6 Generate strings of matched parens"
   ]
  },
  {
   "cell_type": "code",
   "execution_count": 55,
   "metadata": {},
   "outputs": [
    {
     "name": "stdout",
     "output_type": "stream",
     "text": [
      "['((()))', '(()())', '(())()', '()(())', '()()()']\n"
     ]
    }
   ],
   "source": [
    "def generate_parens(n):\n",
    "    \"\"\"\n",
    "    Given n pairs of parentheses, returns a list of all combinations of well-formed parentheses.\n",
    "    \"\"\"\n",
    "    def backtrack(open_left, close_left, partial):\n",
    "        if len(partial) == 2*n:\n",
    "            res.append(partial)\n",
    "        else:\n",
    "            if open_left > 0:\n",
    "                backtrack(open_left - 1, close_left, partial + \"(\")\n",
    "            if close_left > open_left:\n",
    "                backtrack(open_left, close_left - 1, partial + \")\")\n",
    "        \n",
    "    res = []\n",
    "    backtrack(n, n, \"\")\n",
    "    return res\n",
    "\n",
    "# Tests\n",
    "print(generate_parens(3))"
   ]
  }
 ],
 "metadata": {
  "kernelspec": {
   "display_name": "Python 3",
   "language": "python",
   "name": "python3"
  },
  "language_info": {
   "codemirror_mode": {
    "name": "ipython",
    "version": 3
   },
   "file_extension": ".py",
   "mimetype": "text/x-python",
   "name": "python",
   "nbconvert_exporter": "python",
   "pygments_lexer": "ipython3",
   "version": "3.6.0"
  }
 },
 "nbformat": 4,
 "nbformat_minor": 2
}
