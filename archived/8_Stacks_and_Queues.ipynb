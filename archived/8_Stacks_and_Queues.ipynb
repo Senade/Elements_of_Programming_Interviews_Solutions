{
 "cells": [
  {
   "cell_type": "markdown",
   "metadata": {},
   "source": [
    "# Chapter 8: Stacks and Queues"
   ]
  },
  {
   "cell_type": "markdown",
   "metadata": {},
   "source": [
    "### Notes:\n",
    "- For an `list`-based stack `s`:\n",
    "    * push -> `s.append()`\n",
    "    * pop -> `s.pop()`\n",
    "    * peek -> `s[-1]`\n",
    "\n",
    "\n",
    "- For a `deque`-based queue `q`:\n",
    "    * enqueue -> `q.append()`\n",
    "    * dequeue -> `q.popleft()`"
   ]
  },
  {
   "cell_type": "code",
   "execution_count": 51,
   "metadata": {},
   "outputs": [],
   "source": [
    "from collections import namedtuple, deque\n",
    "\n",
    "class Stack:\n",
    "    \"\"\"\n",
    "    Stack wrapper over a `list`\n",
    "    \"\"\"\n",
    "    # Constructor\n",
    "    def __init__(self):\n",
    "        self._stack = []\n",
    "        \n",
    "    # Methods\n",
    "    def push(self, item): \n",
    "        self._stack.append(item)\n",
    "    \n",
    "    def pop(self):\n",
    "        if self._is_empty():\n",
    "            raise IndexError(\"Cannot pop from an empty stack.\")\n",
    "        else:\n",
    "            return self._stack.pop()\n",
    "    \n",
    "    def peek(self):\n",
    "        if self._is_empty():\n",
    "            raise IndexError(\"Cannot peek into an empty stack.\")\n",
    "        else:\n",
    "            return self._stack[-1]\n",
    "    \n",
    "    def size(self):\n",
    "        return len(self._stack)\n",
    "        \n",
    "    # Functions\n",
    "    def _is_empty(self):\n",
    "        return len(self._stack) == 0\n",
    "    \n",
    "    \n",
    "class Queue:\n",
    "    \"\"\"\n",
    "    Queue wrapper over a `deque`\n",
    "    \"\"\"\n",
    "    # Constructor\n",
    "    def __init__(self):\n",
    "        self._q = deque()\n",
    "        \n",
    "    # Methods\n",
    "    def enqueue(self, item):\n",
    "        self._q.append(item)\n",
    "    \n",
    "    def dequeue(self):\n",
    "        self._q.popleft()\n",
    "    \n",
    "    def max(self):\n",
    "        return max(self._q)"
   ]
  },
  {
   "cell_type": "markdown",
   "metadata": {},
   "source": [
    "## 8.1  Implement a stack with max() API"
   ]
  },
  {
   "cell_type": "code",
   "execution_count": 3,
   "metadata": {},
   "outputs": [],
   "source": [
    "class StackWithMax:\n",
    "    \"\"\"\n",
    "    Stack wrapper over a list with `max`\n",
    "    \"\"\"\n",
    "    StackItem = namedtuple('StackItem', ('item', 'max'))\n",
    "    \n",
    "    # Constructor\n",
    "    def __init__(self):\n",
    "        self._stack = []\n",
    "        \n",
    "    # Methods\n",
    "    def push(self, item):\n",
    "        self._stack.append(self.StackItem(item=item, \n",
    "                                          max=item if self._is_empty() \n",
    "                                                   else max(item, self.max())))\n",
    "    \n",
    "    def pop(self):\n",
    "        if self._is_empty():\n",
    "            raise IndexError(\"Cannot pop from an empty stack.\")\n",
    "        else:\n",
    "            return self._stack.pop().item\n",
    "    \n",
    "    def peek(self):\n",
    "        if self._is_empty():\n",
    "            raise IndexError(\"Cannot peek into an empty stack.\")\n",
    "        else:\n",
    "            return self._stack[-1].item\n",
    "    \n",
    "    def max(self):\n",
    "        if self._is_empty():\n",
    "            raise IndexError(\"Cannot peek into an empty stack.\")\n",
    "        else:\n",
    "            return self._stack[-1].max\n",
    "        \n",
    "    # Functions\n",
    "    def _is_empty(self):\n",
    "        return len(self._stack) == 0"
   ]
  },
  {
   "cell_type": "code",
   "execution_count": 4,
   "metadata": {},
   "outputs": [],
   "source": [
    "# Tests\n",
    "s = StackWithMax()\n",
    "s.push(1)\n",
    "assert s.peek() == 1\n",
    "assert s.pop() == 1\n",
    "\n",
    "try:\n",
    "    s.max()\n",
    "except IndexError:\n",
    "    pass\n",
    "\n",
    "s.push(10)\n",
    "s.push(11)\n",
    "assert s.max() == 11\n",
    "assert s.pop() == 11\n",
    "assert s.max() == 10\n",
    "assert s.pop() == 10"
   ]
  },
  {
   "cell_type": "markdown",
   "metadata": {},
   "source": [
    "Time Complexity is `O(1)` for each of the above operations.\n",
    "\n",
    "Space Complexity is `O(n)`."
   ]
  },
  {
   "cell_type": "markdown",
   "metadata": {},
   "source": [
    "##  8.2  Evaluate RPN Expressions"
   ]
  },
  {
   "cell_type": "code",
   "execution_count": 5,
   "metadata": {},
   "outputs": [],
   "source": [
    "def evaluate_rpn(exp):\n",
    "    \"\"\"\n",
    "    Returns the result of an arithmetic expression in Reverse Polish Notation\n",
    "    \"\"\"\n",
    "    OPERATORS = {\n",
    "        \"+\": lambda y, x: x + y,\n",
    "        \"-\": lambda y, x: x - y,\n",
    "        \"x\": lambda y, x: x * y,\n",
    "        \"/\": lambda y, x: int(x / y)\n",
    "    }\n",
    "    s = Stack()\n",
    "    for t in exp.strip().split(\",\"):\n",
    "        if t not in OPERATORS:\n",
    "            s.push(int(t))\n",
    "        else:\n",
    "            s.push(OPERATORS[t](s.pop(), s.pop()))\n",
    "    return s.pop()\n",
    "\n",
    "# Tests\n",
    "assert evaluate_rpn(\"3,4,+,2,x,1,+\") == 15\n",
    "assert evaluate_rpn(\"1729\") == 1729"
   ]
  },
  {
   "cell_type": "markdown",
   "metadata": {},
   "source": [
    "Time and Space Complexities are `O(n)`, where `n` is the length of the RPN string."
   ]
  },
  {
   "cell_type": "markdown",
   "metadata": {},
   "source": [
    "## 8.3  Test a string over `\"{,},(,),[,]\"` for well-formedness"
   ]
  },
  {
   "cell_type": "code",
   "execution_count": 50,
   "metadata": {},
   "outputs": [],
   "source": [
    "def is_well_formed(exp):\n",
    "    \"\"\"\n",
    "    Returns True iff the given expression is well-formed\n",
    "    \"\"\"\n",
    "    s, exp_map = Stack(), {\")\": \"(\", \"]\": \"[\", \"}\": \"{\"}\n",
    "    for c in exp:\n",
    "        if c not in exp_map:\n",
    "            s.push(c)\n",
    "        else:\n",
    "            if s.size() == 0 or s.pop() != exp_map[c]:\n",
    "                return False\n",
    "    return s.size() == 0\n",
    "\n",
    "# Tests\n",
    "assert is_well_formed(\"([]){()}\")\n",
    "assert is_well_formed(\"[()[]{()()}]\")\n",
    "assert not is_well_formed(\"{)\")\n",
    "assert not is_well_formed(\"[()[]{()()\")\n",
    "assert not is_well_formed(\"}\")\n",
    "assert not is_well_formed(\"{\")"
   ]
  },
  {
   "cell_type": "markdown",
   "metadata": {},
   "source": [
    "Time and Space Complexity: `O(n)`"
   ]
  },
  {
   "cell_type": "markdown",
   "metadata": {},
   "source": [
    "## 8.4  Implement a circular queue"
   ]
  },
  {
   "cell_type": "code",
   "execution_count": 39,
   "metadata": {},
   "outputs": [],
   "source": [
    "class CircularQueue:\n",
    "    \"\"\"\n",
    "    Dynamic Circular Queue wrapper over a `list`\n",
    "    \"\"\"\n",
    "    RESIZE_FACTOR = 2\n",
    "    \n",
    "    def __init__(self, capacity):\n",
    "        self._q = [None] * capacity\n",
    "        self._size = 0\n",
    "        self._head = 0\n",
    "        self._tail = 0\n",
    "    \n",
    "    def enqueue(self, item):\n",
    "        if self._size == len(self._q):\n",
    "            # Resize queue\n",
    "            self._q = self._q[self._head:] + self._q[:self._head]\n",
    "            self._head, self._tail = 0, self._size\n",
    "            self._q += [None] * (len(self._q) * (CircularQueue.RESIZE_FACTOR - 1)) \n",
    "        self._q[self._tail] = item\n",
    "        self._tail = (self._tail + 1) % len(self._q)\n",
    "        self._size += 1\n",
    "    \n",
    "    def dequeue(self):\n",
    "        val = self._q[self._head]\n",
    "        self._head = (self._head + 1) % len(self._q)\n",
    "        self._size -= 1\n",
    "        return val\n",
    "    \n",
    "    def peek_head(self):\n",
    "        return self._q[self._head]\n",
    "    \n",
    "    def peek_tail(self):\n",
    "        return self._q[self._tail - 1]\n",
    "\n",
    "    def size(self):\n",
    "        return self._size"
   ]
  },
  {
   "cell_type": "code",
   "execution_count": 41,
   "metadata": {},
   "outputs": [],
   "source": [
    "# Tests\n",
    "cq = CircularQueue(4)\n",
    "\n",
    "cq.enqueue(1)\n",
    "cq.enqueue(2)\n",
    "cq.enqueue(3)\n",
    "cq.enqueue(4)\n",
    "assert cq.size() == 4\n",
    "assert cq.peek_head() == 1\n",
    "assert cq.peek_tail() == 4\n",
    "\n",
    "cq.dequeue()\n",
    "cq.dequeue()\n",
    "assert cq.peek_head() == 3\n",
    "assert cq.peek_tail() == 4\n",
    "cq.enqueue(5)\n",
    "cq.enqueue(6)\n",
    "assert cq.peek_head() == 3\n",
    "assert cq.peek_tail() == 6\n",
    "assert cq.size() == 4\n",
    "\n",
    "cq.enqueue(7)\n",
    "assert cq.size() == 5"
   ]
  },
  {
   "cell_type": "markdown",
   "metadata": {},
   "source": [
    "Time Complexity:\n",
    "* enqueue() - amortized `O(1)`\n",
    "* dequeue() - `O(1)`\n",
    "\n",
    "Space: `O(n)`"
   ]
  },
  {
   "cell_type": "markdown",
   "metadata": {},
   "source": [
    "## 8.8 Implement a Queue using Stacks"
   ]
  },
  {
   "cell_type": "code",
   "execution_count": 59,
   "metadata": {},
   "outputs": [],
   "source": [
    "class QueueStack:\n",
    "    \"\"\"\n",
    "    Queue wrapper over a Stack\n",
    "    \"\"\"\n",
    "    # Constructor\n",
    "    def __init__(self):\n",
    "        self._eq = Stack()\n",
    "        self._dq = Stack()\n",
    "    \n",
    "    # Methods\n",
    "    def enqueue(self, item):\n",
    "        self._eq.push(item)\n",
    "    \n",
    "    def dequeue(self):\n",
    "        if self._dq.size() == 0:\n",
    "            self._eq, self._dq = self._move_stacks(self._eq, self._dq)\n",
    "        return self._dq.pop()\n",
    "    \n",
    "    # Functions\n",
    "    def _move_stacks(self, s1, s2):\n",
    "        while s1.size() != 0:\n",
    "            s2.push(s1.pop())\n",
    "        return s1, s2"
   ]
  },
  {
   "cell_type": "code",
   "execution_count": 62,
   "metadata": {},
   "outputs": [],
   "source": [
    "# Tests\n",
    "qs = QueueStack()\n",
    "qs.enqueue(1)\n",
    "qs.enqueue(2)\n",
    "assert qs.dequeue() == 1\n",
    "assert qs.dequeue() == 2"
   ]
  }
 ],
 "metadata": {
  "kernelspec": {
   "display_name": "Python 3",
   "language": "python",
   "name": "python3"
  },
  "language_info": {
   "codemirror_mode": {
    "name": "ipython",
    "version": 3
   },
   "file_extension": ".py",
   "mimetype": "text/x-python",
   "name": "python",
   "nbconvert_exporter": "python",
   "pygments_lexer": "ipython3",
   "version": "3.6.0"
  }
 },
 "nbformat": 4,
 "nbformat_minor": 2
}
