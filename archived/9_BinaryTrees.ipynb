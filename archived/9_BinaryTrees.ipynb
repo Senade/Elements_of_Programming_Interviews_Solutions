{
 "cells": [
  {
   "cell_type": "markdown",
   "metadata": {},
   "source": [
    "# Chapter 9: Binary Trees"
   ]
  },
  {
   "cell_type": "markdown",
   "metadata": {},
   "source": [
    "## Notes:\n",
    "\n",
    "* Some problems have simple brute force solutions that require `O(n)` space, but, subtler solutions exist that use existing tree nodes to reduce space complexity to `O(1)`.\n",
    "\n",
    "* Recursive algorithms are well-suited to tree problems. Remember to consider the size of the function call stack which computing space complexity.\n",
    "\n",
    "* The height of the tree varies from `log n` for balanced trees to `n` for skewed trees.\n",
    "\n",
    "* If each node has a parent field, use it to reduce time and space complexities."
   ]
  },
  {
   "cell_type": "code",
   "execution_count": 7,
   "metadata": {},
   "outputs": [],
   "source": [
    "from collections import namedtuple, deque\n",
    "\n",
    "class BinaryTreeNode:\n",
    "    \"\"\"\n",
    "    Represents a node in a binary tree\n",
    "    \"\"\"\n",
    "    def __init__(self, data=None, left=None, right=None):\n",
    "        this.data = data\n",
    "        this.left = left\n",
    "        this.right = right\n",
    "\n",
    "\n",
    "def traversal(tree_node):\n",
    "    \"\"\"\n",
    "    Demonstrates preorder, inorder and postorder traversal\n",
    "    of a tree rooted at `tree_node`\n",
    "    \"\"\"\n",
    "    print(\"Pre-order: \", tree_node.data)\n",
    "    traversal(tree_node.left)\n",
    "    \n",
    "    print(\"In-order: \", tree_node.data)\n",
    "    traversal(tree_node.right)\n",
    "    \n",
    "    print(\"Post-order: \", tree_node.data)"
   ]
  },
  {
   "cell_type": "markdown",
   "metadata": {},
   "source": [
    "## Traversals"
   ]
  },
  {
   "cell_type": "markdown",
   "metadata": {},
   "source": [
    "Pre-order"
   ]
  },
  {
   "cell_type": "code",
   "execution_count": 6,
   "metadata": {},
   "outputs": [],
   "source": [
    "def preorder_iter(root):\n",
    "    \"\"\"\n",
    "    Returns a list of given tree's nodes as seen during a pre-order traversal.\n",
    "    \"\"\"\n",
    "    stack, res = [root], []\n",
    "    while stack:\n",
    "        node = stack.pop()\n",
    "        if node:\n",
    "            res.append(node.data)\n",
    "            stack += [node.right, node.left]\n",
    "    return res\n",
    "\n",
    "\n",
    "def preorder_recur(root):\n",
    "    \"\"\"\n",
    "    Returns a list of given tree's nodes as seen during a pre-order traversal.\n",
    "    \"\"\"\n",
    "    res = []\n",
    "    def helper(node):\n",
    "        if not node: return\n",
    "        res.append(node.data)\n",
    "        helper(node.left)\n",
    "        helper(node.right)\n",
    "    helper(root)\n",
    "    return res"
   ]
  },
  {
   "cell_type": "markdown",
   "metadata": {},
   "source": [
    "In-order"
   ]
  },
  {
   "cell_type": "code",
   "execution_count": 7,
   "metadata": {},
   "outputs": [],
   "source": [
    "def in_order_recur(root):\n",
    "    \"\"\"\n",
    "    Returns a list of given tree's nodes as seen during an in-order traversal.\n",
    "    \"\"\"\n",
    "    res = []\n",
    "    def helper(node):\n",
    "        if not node: return\n",
    "        helper(node.left)\n",
    "        res.append(node.data)\n",
    "        helper(node.right)\n",
    "    helper(root)\n",
    "    return res\n",
    "\n",
    "def in_order_inorder(root):\n",
    "    \"\"\"\n",
    "    Returns a list of given tree's nodes as seen during an in-order traversal.\n",
    "    \"\"\"\n",
    "    stack, res = [], []\n",
    "    node = root\n",
    "    while node or stack:\n",
    "        while node:\n",
    "            stack.append(node)\n",
    "            node = node.left\n",
    "        node = stack.pop()\n",
    "        res.append(node.data)\n",
    "        node = node.right\n",
    "    return res"
   ]
  },
  {
   "cell_type": "markdown",
   "metadata": {},
   "source": [
    "Post-order"
   ]
  },
  {
   "cell_type": "code",
   "execution_count": 8,
   "metadata": {},
   "outputs": [],
   "source": [
    "def post_order_recur(root):\n",
    "    \"\"\"\n",
    "    Returns a list of given tree's nodes as seen during a post-order traversal.\n",
    "    \"\"\"\n",
    "    res = []\n",
    "    def helper(node):\n",
    "        if not node: return\n",
    "        helper(node.left)\n",
    "        helper(node.right)\n",
    "        res.append(node.data)\n",
    "    helper(root)\n",
    "    return res\n",
    "\n",
    "def post_order_iter(root):\n",
    "    \"\"\"\n",
    "    Returns a list of given tree's nodes as seen during a post-order traversal.\n",
    "    \"\"\"\n",
    "    if not root: return None\n",
    "    stack, res = [root], []\n",
    "    prev = None\n",
    "    while stack:\n",
    "        curr = stack[-1]\n",
    "        if not prev or curr is prev.left or curr is prev.right:\n",
    "            if curr.left: stack.append(curr.left)\n",
    "            elif curr.right: stack.append(curr.right)\n",
    "        elif prev is curr.left:\n",
    "            if curr.right: stack.append(curr.right)\n",
    "        else:\n",
    "            res.append(stack.pop().data)\n",
    "        prev = curr\n",
    "    return res"
   ]
  },
  {
   "cell_type": "markdown",
   "metadata": {},
   "source": [
    "Level-order"
   ]
  },
  {
   "cell_type": "code",
   "execution_count": 9,
   "metadata": {},
   "outputs": [],
   "source": [
    "def level_order(root):\n",
    "    \"\"\"\n",
    "    Returns a list of given tree's nodes as seen during a level-order traversal.\n",
    "    \"\"\"\n",
    "    if not root: return []\n",
    "    \n",
    "    res = []\n",
    "    curr_level = [root]\n",
    "    \n",
    "    while curr_level:\n",
    "        res.append([node.data for node in curr_level])\n",
    "        curr_level = [child for node in curr_level for child in (node.left, node.right) if child]\n",
    "#         curr_level = []\n",
    "#         for node in curr_level:\n",
    "#             if node.left: curr_level.append(node.left)\n",
    "#             if node.right: curr_level.append(node.eight)\n",
    "    \n",
    "    return res"
   ]
  },
  {
   "cell_type": "markdown",
   "metadata": {},
   "source": [
    "## 9.1 Test if a binary tree is height balanced"
   ]
  },
  {
   "cell_type": "code",
   "execution_count": 1,
   "metadata": {},
   "outputs": [],
   "source": [
    "def is_balanced_tree(tree):\n",
    "    \"\"\"\n",
    "    Returns True iff the given binary tree is height-balanced\n",
    "    \"\"\"\n",
    "    BalancedWithHeight = namedtupled('BalancedWithHeight', ('balanced', 'height'))\n",
    "    \n",
    "    def check_balanced(tree):\n",
    "        if not tree:\n",
    "            return BalancedWithHeight(True, -1)\n",
    "    \n",
    "        left_result = check_balanced(tree.left)\n",
    "        if not left_result.balanced:\n",
    "            return BalancedWithHeight(False, 0)\n",
    "        \n",
    "        right_result = check_balanced(tree.right)\n",
    "        if not right_result.balanced:\n",
    "            return BalancedWithHeight(False, 0)\n",
    "        \n",
    "        is_balanced = abs(left_result.height - right_result.height) <= 1\n",
    "        height = max(left_result.height, right_result.height) + 1\n",
    "        return BalancedWithHeight(is_balanced, height)\n",
    "    \n",
    "    return check_balanced(tree).balanced"
   ]
  },
  {
   "cell_type": "markdown",
   "metadata": {},
   "source": [
    "### Variant: Design an algorithm that takes as input a binary tree and positive integer k, and returns the node in the binary tree such that the node is not k-balanced, but all of its descendants are k-balanced"
   ]
  },
  {
   "cell_type": "code",
   "execution_count": 3,
   "metadata": {},
   "outputs": [],
   "source": [
    "def k_balanced(tree, k):\n",
    "    BalancedWithHeight = namedtuple('BalancedWithHeight', ('balanced', 'height'))\n",
    "    res = None\n",
    "    \n",
    "    def k_balanced_node(tree):\n",
    "        if not tree:\n",
    "            return BalancedWithHeight(True, -1)\n",
    "        left_result = k_balanced_node(tree.left)\n",
    "        right_result = k_balanced_node(tree.right)\n",
    "        \n",
    "        if not left_result.balanced or not right_result.balanced:\n",
    "            return BalancedWithHeight(False, None)\n",
    "        \n",
    "        is_balanced = abs(left_result.height - right_result.height) <= k\n",
    "        height = max(left_result.height, right_result.height) + 1\n",
    "        \n",
    "        nonlocal res\n",
    "        if not is_balanced and not res:\n",
    "            res = tree\n",
    "            \n",
    "        return BalancedWithHeight(is_balanced, height)\n",
    "    \n",
    "    k_balanced_node(tree)\n",
    "    return res"
   ]
  },
  {
   "cell_type": "markdown",
   "metadata": {},
   "source": [
    "## 9.2 Test if a binary tree is symmetric"
   ]
  },
  {
   "cell_type": "code",
   "execution_count": 9,
   "metadata": {},
   "outputs": [],
   "source": [
    "def is_symmetric(tree):\n",
    "    \"\"\"\n",
    "    Returns True iff the given binary tree is symmetric\n",
    "    \"\"\"\n",
    "    \n",
    "    def check_symmetric(left_subtree, right_subtree):\n",
    "        if not left_subtree and not right_subtree:\n",
    "            return True\n",
    "        elif left_subtree and right_subtree:\n",
    "            return (left_subtree.data == right_subtree.data) and \\\n",
    "        check_symmetric(left_subtree.left, right_subtree.right) and \\\n",
    "        check_symmetric(left_subtree.right, right_subtree.left)\n",
    "        return False\n",
    "\n",
    "    return not tree or check_symmetric(tree.left, tree.right)"
   ]
  },
  {
   "cell_type": "markdown",
   "metadata": {},
   "source": [
    "## 9.3 Compute the lowest common ancestor in a binary tree"
   ]
  },
  {
   "cell_type": "code",
   "execution_count": 4,
   "metadata": {},
   "outputs": [],
   "source": [
    "def lca(root, node0, node1):\n",
    "    \"\"\"\n",
    "    Returns the LCA of the given nodes in the given tree\n",
    "    \"\"\"\n",
    "    Status = namedtuple(\"Status\", (\"node_count\", \"ancestor\"))\n",
    "    \n",
    "    def lca_helper(tree, node0, node1):\n",
    "        if not tree:\n",
    "            return Status(0, None)\n",
    "        \n",
    "        left_result = lca_helper(tree.left, node0, node1)\n",
    "        if left_result.node_count == 2:\n",
    "            return left_result\n",
    "        \n",
    "        right_result = lca_helper(tree.right, node0, node1)\n",
    "        if right_result.node_count == 2:\n",
    "            return right_result\n",
    "        \n",
    "        node_count = left_result.node_count + right_result.node_count + int(tree is node0) + int(tree is node1)\n",
    "        ancestor = tree if node_count == 2 else None\n",
    "        return Status(node_count, ancestor)\n",
    "    \n",
    "    return lca_helper(root, node0, node1).ancestor"
   ]
  },
  {
   "cell_type": "markdown",
   "metadata": {},
   "source": [
    "## 9.4 Compute the LCA when nodes have parent pointers"
   ]
  },
  {
   "cell_type": "code",
   "execution_count": 13,
   "metadata": {},
   "outputs": [],
   "source": [
    "class Node:\n",
    "    \"\"\"\n",
    "    Represents a binary tree node with a parent pointer\n",
    "    \"\"\"\n",
    "    def __init__(self, data=None, parent=None, left=None, right=None):\n",
    "        this.data = data\n",
    "        this.parent = parent\n",
    "        this.left = left\n",
    "        this.right = right\n",
    "\n",
    "def lca(node1, node2):\n",
    "    \"\"\"\n",
    "    Returns the LCA of node1 and node2 if it exists\n",
    "    \"\"\"\n",
    "    \n",
    "    def get_depth(node):\n",
    "        \"\"\"\n",
    "        Returns the depth of the given node\n",
    "        \"\"\"\n",
    "        d = 0\n",
    "        while node and node.parent: \n",
    "            d += 1\n",
    "            node = node.parent\n",
    "        return d\n",
    "    \n",
    "    def move_up(node, n):\n",
    "        \"\"\"\n",
    "        Returns the given node moved up by n steps\n",
    "        \"\"\"\n",
    "        while n > 0:\n",
    "            node = node.parent\n",
    "            n -= 1\n",
    "        return node\n",
    "    \n",
    "    if not node1 or not node2:\n",
    "        return None\n",
    "    \n",
    "    # Compute depths\n",
    "    depth1 = get_depth(node1)\n",
    "    depth2 = get_depth(node2)\n",
    "    \n",
    "    # Assign the node to be ascended\n",
    "    if depth2 > depth1:\n",
    "        node1, node2 = node2, node1\n",
    "    \n",
    "    # Ascends the deeper node\n",
    "    node1 = move_up(node1, abs(depth1 - depth2))\n",
    "    \n",
    "    # Ascend both nodes until we reach the LCA\n",
    "    while node1 is not node2:\n",
    "        node1, node2 = node1.parent, node2.parent\n",
    "    return node1"
   ]
  },
  {
   "cell_type": "markdown",
   "metadata": {},
   "source": [
    "## 9.11 Implement an in-order traversal with `O(1)` space"
   ]
  },
  {
   "cell_type": "code",
   "execution_count": 5,
   "metadata": {},
   "outputs": [],
   "source": [
    "class Node:\n",
    "    \"\"\"\n",
    "    Represents a binary tree node with a parent pointer\n",
    "    \"\"\"\n",
    "    def __init__(self, data=None, parent=None, left=None, right=None):\n",
    "        this.data = data\n",
    "        this.parent = parent\n",
    "        this.left = left\n",
    "        this.right = right\n",
    "        \n",
    "        \n",
    "def inorder_traversal_iter(tree):\n",
    "    \"\"\"\n",
    "    Perform in-order traversal iteratively\n",
    "    \"\"\"\n",
    "    prev, result = None, []\n",
    "    while tree:\n",
    "        if prev is tree.parent:\n",
    "            if tree.left:\n",
    "                next = tree.left\n",
    "            else:\n",
    "                result.append(tree.data)\n",
    "                next = tree.right or tree.parent\n",
    "        elif prev is tree.left:\n",
    "            result.append(tree.data)\n",
    "            next = tree.right or tree.parent\n",
    "        else:\n",
    "            next = tree.parent\n",
    "        prev, tree = tree, next\n",
    "    return result"
   ]
  },
  {
   "cell_type": "markdown",
   "metadata": {},
   "source": [
    "## 9.12 Reconstruct a binary tree from traversal data"
   ]
  },
  {
   "cell_type": "code",
   "execution_count": 6,
   "metadata": {},
   "outputs": [],
   "source": [
    "def build_binary_tree_from_preorder_inorder(preorder, inorder):\n",
    "    node_to_inorder_idx = {data: i for i, data in enumerate(inorder)}\n",
    "    \n",
    "    def binary_tree_from_preorder_inorder_helper(preorder_start, preorder_end, inorder_start, inorder_end):\n",
    "        if preorder_end <= preorder_start or inorder_end <= inorder_start:\n",
    "            return None\n",
    "        root_inorder_idx = node_to_inorder_idx[preorder[preorder_start]]\n",
    "        left_subtree_size = root_inorder_idx - inorder_start\n",
    "        return BinaryTreeNode(preorder[preorder_start],\n",
    "                            # left subtree\n",
    "                            binary_tree_from_preorder_inorder_helper(\n",
    "                                preorder_start + 1,\n",
    "                                preorder_start + 1 + left_subtree_size,\n",
    "                                inorder_start,\n",
    "                                root_inorder_idx),\n",
    "                            # right subtree\n",
    "                            binary_tree_from_preorder_inorder_helper(\n",
    "                                preorder_start + 1 + left_subtree_size,\n",
    "                                preorder_end,\n",
    "                                root_inorder_idx + 1,\n",
    "                                inorder_end))\n",
    "    return binary_tree_from_preorder_inorder_helper(0, len(preorder), 0, len(inorder))"
   ]
  },
  {
   "cell_type": "markdown",
   "metadata": {},
   "source": [
    "A much shorter solution"
   ]
  },
  {
   "cell_type": "code",
   "execution_count": 8,
   "metadata": {},
   "outputs": [],
   "source": [
    "def build_binary_tree_from_preorder_inorder_short(preorder, inorder):\n",
    "    node_to_inorder_idx = {data: i for i, data in enumerate(inorder)}\n",
    "    preorder = deque(preorder)\n",
    "    \n",
    "    def helper(preorder, inorder):\n",
    "        if not inorder or not preorder:\n",
    "            return None\n",
    "        \n",
    "        inorder_root_idx = node_to_inorder_idx[preorder.popleft()]\n",
    "        return BinaryTreeNode(preorder[inorder_root_idx],\n",
    "                                # left subtree\n",
    "                                helper(preorder, inorder[:inorder_root_idx]),\n",
    "                                # right subtree\n",
    "                                helper(preorder, inorder[inorder_root_idx + 1:])) "
   ]
  },
  {
   "cell_type": "markdown",
   "metadata": {},
   "source": [
    "### Variant: Solve the same problem with an inorder traversal sequence and a post order traversal sequence"
   ]
  },
  {
   "cell_type": "code",
   "execution_count": 9,
   "metadata": {},
   "outputs": [],
   "source": [
    "def build_binary_tree_from_postorder_inorder_short(postorder, inorder):\n",
    "    node_to_inorder_idx = {data: i for i, data in enumerate(inorder)}\n",
    "    \n",
    "    def helper(postorder, inorder):\n",
    "        if not postorder or not inorder:\n",
    "            return None\n",
    "        inorder_root_idx = node_to_inorder_idx[postorder.pop()]\n",
    "        return BinaryTreeNode(postorder[inorder_root_idx],\n",
    "                              # left subtree\n",
    "                              helper(postorder, inorder[inorder_root_idx+1:]),\n",
    "                              # right subtree\n",
    "                              helper(postorder, inorder[:inorder_root_idx]))"
   ]
  }
 ],
 "metadata": {
  "kernelspec": {
   "display_name": "Python 3",
   "language": "python",
   "name": "python3"
  },
  "language_info": {
   "codemirror_mode": {
    "name": "ipython",
    "version": 3
   },
   "file_extension": ".py",
   "mimetype": "text/x-python",
   "name": "python",
   "nbconvert_exporter": "python",
   "pygments_lexer": "ipython3",
   "version": "3.6.0"
  }
 },
 "nbformat": 4,
 "nbformat_minor": 2
}
