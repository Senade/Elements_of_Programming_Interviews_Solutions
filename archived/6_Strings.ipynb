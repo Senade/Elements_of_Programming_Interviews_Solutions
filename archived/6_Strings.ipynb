{
 "cells": [
  {
   "cell_type": "markdown",
   "metadata": {},
   "source": [
    "# Chapter 6: Strings"
   ]
  },
  {
   "cell_type": "markdown",
   "metadata": {},
   "source": [
    "## Scratch"
   ]
  },
  {
   "cell_type": "code",
   "execution_count": 1,
   "metadata": {},
   "outputs": [],
   "source": [
    "def is_palindromic(s):\n",
    "    \"\"\"\n",
    "    Returns True iff the given string `s` is a palindrome\n",
    "    \"\"\"\n",
    "    return all(s[i] == s[-(i + 1)] for i in range(len(s) // 2))"
   ]
  },
  {
   "cell_type": "markdown",
   "metadata": {},
   "source": [
    "## 6.1 Interconvert strings and integers"
   ]
  },
  {
   "cell_type": "code",
   "execution_count": 2,
   "metadata": {},
   "outputs": [],
   "source": [
    "import functools\n",
    "import string\n",
    "\n",
    "def int_to_str(n):\n",
    "    \"\"\"\n",
    "    Int -> String\n",
    "    Given: an int\n",
    "    Returns: given int as a string\n",
    "    \"\"\"\n",
    "    is_neg = False\n",
    "    if n < 0:\n",
    "        n, is_neg = -n, True\n",
    "\n",
    "    result = []\n",
    "    while n > 0:\n",
    "        result.append(chr(ord(\"0\") + n % 10))\n",
    "        n //= 10\n",
    "    return (\"-\" if is_neg else \"\") + \"\".join(reversed(result))\n",
    "\n",
    "\n",
    "def str_to_int(s):\n",
    "    \"\"\"\n",
    "    String -> Int\n",
    "    Given: a string representing an int\n",
    "    Returns: the int equivalent of the given string\n",
    "    \"\"\"\n",
    "    return functools.reduce(lambda acc, c: acc * 10 + (ord(c) - ord(\"0\")),\n",
    "                            s[s[0] == \"-\":],\n",
    "                            0) * (-1 if s[0] == \"-\" else 1)\n",
    "\n",
    "\n",
    "# Tests\n",
    "assert int_to_str(12) == \"12\"\n",
    "assert int_to_str(-12) == \"-12\"\n",
    "\n",
    "assert str_to_int(\"12\") == 12\n",
    "assert str_to_int(\"-12\") == -12"
   ]
  },
  {
   "cell_type": "markdown",
   "metadata": {},
   "source": [
    "## 6.4 Replace and Remove"
   ]
  },
  {
   "cell_type": "code",
   "execution_count": 24,
   "metadata": {},
   "outputs": [],
   "source": [
    "def replace_and_remove(s):\n",
    "    l = [c for c in s]\n",
    "    write_i = 0\n",
    "    a_count = 0\n",
    "\n",
    "    for c in l:\n",
    "        if c != 'b':\n",
    "            l[write_i] = c\n",
    "            write_i += 1\n",
    "        if c == 'a':\n",
    "            a_count += 1\n",
    "\n",
    "    curr_i = write_i - 1\n",
    "    l.extend([None] * a_count)\n",
    "    write_i = write_i + a_count - 1\n",
    "\n",
    "    while curr_i >= 0:\n",
    "        if l[curr_i] == 'a':\n",
    "            l[write_i] = 'd'\n",
    "            l[write_i - 1] = 'd'\n",
    "            write_i -= 2\n",
    "        else:\n",
    "            l[write_i] = l[curr_i]\n",
    "            write_i -= 1\n",
    "        curr_i -= 1\n",
    "    return [c for c in l if c is not None]\n",
    "\n",
    "\n",
    "# Tests\n",
    "assert \"\".join(replace_and_remove(\"bacaa\")) == 'ddcdddd'\n",
    "assert \"\".join(replace_and_remove(\"acaa\")) == 'ddcdddd'"
   ]
  },
  {
   "cell_type": "markdown",
   "metadata": {},
   "source": [
    "## 6.5 Test Palindromicity"
   ]
  },
  {
   "cell_type": "code",
   "execution_count": 23,
   "metadata": {},
   "outputs": [],
   "source": [
    "def is_palindrome(s):\n",
    "    \"\"\"\n",
    "    True iff the given string is a palindrome\n",
    "    \"\"\"\n",
    "    start, end = 0, len(s) - 1\n",
    "    while start < end:\n",
    "        while not s[start].isalnum() and start < end:\n",
    "            start += 1\n",
    "        while not s[end].isalnum() and start < end:\n",
    "            end -= 1\n",
    "        if s[start].lower() != s[end].lower():\n",
    "            return False\n",
    "        start, end = start + 1, end - 1\n",
    "    return True\n",
    "\n",
    "\n",
    "# Tests\n",
    "assert is_palindrome(\"A man, a plan, a canal, panama\")\n",
    "assert not is_palindrome(\"a panama\")"
   ]
  },
  {
   "cell_type": "markdown",
   "metadata": {},
   "source": [
    "## 6.6 Reverse all the words in a sentence"
   ]
  },
  {
   "cell_type": "code",
   "execution_count": 22,
   "metadata": {},
   "outputs": [],
   "source": [
    "def reverse_words(s):\n",
    "    \"\"\"\n",
    "    Reverse the ordering of words in the given sentence\n",
    "    \"\"\"\n",
    "    def reverse_range(s, start, end):\n",
    "        \"\"\"\n",
    "        Reverses the [start, end] indices of list `s`\n",
    "        \"\"\"\n",
    "        while start < end:\n",
    "            s[start], s[end] = s[end], s[start]\n",
    "            start, end = start + 1, end - 1\n",
    "    \n",
    "    s = list(s)\n",
    "    reverse_range(s, 0, len(s) - 1)\n",
    "    start = 0\n",
    "    for end in range(len(s) + 1):\n",
    "        if end == len(s) or s[end] == \" \":\n",
    "            reverse_range(s, start, end - 1)\n",
    "            start = end + 1\n",
    "    return \"\".join(s)\n",
    "\n",
    "# Tests\n",
    "assert reverse_words(\"Alice likes Bob\") == \"Bob likes Alice\"\n",
    "assert reverse_words(\"Alice likes, Bob!\") == \"Bob! likes, Alice\"\n",
    "assert reverse_words(\"Alice\") == \"Alice\""
   ]
  }
 ],
 "metadata": {
  "kernelspec": {
   "display_name": "Python 3",
   "language": "python",
   "name": "python3"
  },
  "language_info": {
   "codemirror_mode": {
    "name": "ipython",
    "version": 3
   },
   "file_extension": ".py",
   "mimetype": "text/x-python",
   "name": "python",
   "nbconvert_exporter": "python",
   "pygments_lexer": "ipython3",
   "version": "3.6.0"
  }
 },
 "nbformat": 4,
 "nbformat_minor": 2
}
