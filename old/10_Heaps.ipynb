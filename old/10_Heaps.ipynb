{
 "cells": [
  {
   "cell_type": "markdown",
   "metadata": {},
   "source": [
    "### Notes:\n",
    "\n",
    "- Use heaps when all we care about is the **k-largest** or the **k-smallest** elements in a collection and we do not need to support fast-lookup, delete or search operations.\n",
    "- The `heapq` module only provides min-heap functionality. Hence, use negative keys (for numbers) to emulate max-heap functionality."
   ]
  },
  {
   "cell_type": "code",
   "execution_count": 2,
   "metadata": {},
   "outputs": [],
   "source": [
    "from itertools import islice\n",
    "import heapq\n",
    "import math\n",
    "\n",
    "class MinHeap():\n",
    "    \"\"\"\n",
    "    Heap wrapper over `heapq`\n",
    "    \"\"\"\n",
    "    def __init__(self):\n",
    "        self._heap = []\n",
    "    \n",
    "    def push(self, item):\n",
    "        heapq.heappush(self._heap, item)\n",
    "    \n",
    "    def pop(self):\n",
    "        return heapq.heappop(self._heap)\n",
    "    \n",
    "    def pushpop(self, item):\n",
    "        return heapq.heappushpop(self._heap, item)\n",
    "    \n",
    "    def length(self):\n",
    "        return len(self._heap)\n",
    "        \n",
    "    def is_empty(self):\n",
    "        return len(self._heap) == 0"
   ]
  },
  {
   "cell_type": "markdown",
   "metadata": {},
   "source": [
    "## 10.1 Merge Sorted Files"
   ]
  },
  {
   "cell_type": "code",
   "execution_count": 31,
   "metadata": {},
   "outputs": [],
   "source": [
    "def merge_sorted(sorted_arrays):\n",
    "    \"\"\"\n",
    "    Given a list of sorted arrays,\n",
    "    Merges the given arrays in a sorted order\n",
    "    \"\"\"\n",
    "    min_heap, result = MinHeap(), []\n",
    "    sa_iter = [iter(x) for x in sorted_arrays]\n",
    "    \n",
    "    for i, it in enumerate(sa_iter):\n",
    "        first_elem = next(it, None)\n",
    "        if first_elem is not None:\n",
    "            min_heap.push((first_elem, i))\n",
    "    \n",
    "    while not min_heap.is_empty():\n",
    "        smallest, smallest_iter_index = min_heap.pop()\n",
    "        result.append(smallest)\n",
    "        next_elem = next(sa_iter[smallest_iter_index], None)\n",
    "        if next_elem is not None:\n",
    "            min_heap.push((next_elem, smallest_iter_index))\n",
    "    return result\n",
    "\n",
    "\n",
    "def merge_sorted_2(sorted_arrays):\n",
    "    \"\"\"\n",
    "    A direct pythonic implementation\n",
    "    \"\"\"\n",
    "    return list(heapq.merge(*sorted_arrays))\n",
    "        \n",
    "# Tests\n",
    "assert merge_sorted([[3, 5, 7], [0, 6], [0, 6, 28]]) == [0, 0, 3, 5, 6, 6, 7, 28]\n",
    "assert merge_sorted_2([[3, 5, 7], [0, 6], [0, 6, 28]]) == [0, 0, 3, 5, 6, 6, 7, 28]"
   ]
  },
  {
   "cell_type": "markdown",
   "metadata": {},
   "source": [
    "Space Complexity = `O(k)`\n",
    "\n",
    "Time Complexity = `O(nlogk)`, where `k` is the number of sequences."
   ]
  },
  {
   "cell_type": "markdown",
   "metadata": {},
   "source": [
    "## 10.3 Sort an almost sorted array"
   ]
  },
  {
   "cell_type": "code",
   "execution_count": 4,
   "metadata": {},
   "outputs": [],
   "source": [
    "def sort_almost_sorted(sequence, k):\n",
    "    min_heap, result = MinHeap(), []\n",
    "    \n",
    "    # Insert first-k items\n",
    "    for item in islice(sequence, k):\n",
    "        min_heap.push(item)\n",
    "    \n",
    "    # Add subsequent items\n",
    "    for item in sequence:\n",
    "        result.append(min_heap.pushpop(item))\n",
    "    \n",
    "    # Empty the heap\n",
    "    while not min_heap.is_empty():\n",
    "        result.append(min_heap.pop())\n",
    "    \n",
    "    return result\n",
    "\n",
    "# Tests\n",
    "assert sort_almost_sorted(iter([3, -1, 2, 6, 4, 5, 8]), 2) == [-1, 2, 3, 4, 5, 6, 8]"
   ]
  },
  {
   "cell_type": "markdown",
   "metadata": {},
   "source": [
    "Space Complexity = `O(k)`\n",
    "\n",
    "Time Complexity = `O(nlogk)`"
   ]
  },
  {
   "cell_type": "markdown",
   "metadata": {},
   "source": [
    "## 10.4 Compute the k-closest stars"
   ]
  },
  {
   "cell_type": "code",
   "execution_count": 6,
   "metadata": {},
   "outputs": [],
   "source": [
    "# Helper\n",
    "def euclidean_dist(p1, p2):\n",
    "    squared_diff = [(a - b)**2 for a, b in zip(p1, p2)]\n",
    "    return math.sqrt(sum(squared_diff))\n",
    "\n",
    "# Main\n",
    "def find_closest_k_stars(stars, k):\n",
    "    \"\"\"\n",
    "    Returns the k-closest stars to earth\n",
    "    \"\"\"\n",
    "    earth, max_heap = (0, 0, 0), []\n",
    "    for star in stars:\n",
    "        heapq.heappush(max_heap, (-euclidean_dist(earth, star), star))\n",
    "        if len(max_heap) == k + 1:\n",
    "            heapq.heappop(max_heap)\n",
    "    return [s[1] for s in max_heap]\n",
    "\n",
    "# Tests\n",
    "assert find_closest_k_stars([(1, 2, 2), (100, 100, 2)], 1) == [(1, 2, 2)]"
   ]
  },
  {
   "cell_type": "markdown",
   "metadata": {},
   "source": [
    "Space Complexity = `O(k)`\n",
    "\n",
    "Time Complexity = `O(nlogk)`"
   ]
  },
  {
   "cell_type": "code",
   "execution_count": 7,
   "metadata": {},
   "outputs": [],
   "source": [
    "# Variant: Design an algorithm that reads a sequence of `n` elements and for each element, starting from the\n",
    "# `kth` element, prints the `kth` largest element read up to that point. The length of the sequence is not known \n",
    "# in advance. time and space complexities should be `O(nlogk)` and `O(k)` respectively. What are the worst-cast inputs to your\n",
    "# algorithm?\n",
    "\n",
    "def kth_largest_so_far(sequence, n, k):\n",
    "    \"\"\"\n",
    "    For all the elements starting from the k-th element, returns the k-th largest element read so far.\n",
    "    \"\"\"\n",
    "    min_heap, result = [], []\n",
    "    for i, num in enumerate(islice(sequence, n)):\n",
    "        if i < k:\n",
    "            heapq.heappush(min_heap, num)\n",
    "            if i == k - 1:\n",
    "                result.append(min_heap[0])\n",
    "        else:\n",
    "            if num > min_heap[0]:\n",
    "                heapq.heappushpop(min_heap, num)\n",
    "            result.append(min_heap[0])\n",
    "    return result\n",
    "        \n",
    "\n",
    "# Tests\n",
    "assert(kth_largest_so_far(iter([1, 2, 3, 4, 5]), 5, 3)) == [1, 2, 3] # Worst case input: Sorted in ascending order\n",
    "assert(kth_largest_so_far(iter([5, 4, 3, 2, 1]), 5, 3)) == [3, 3, 3]"
   ]
  },
  {
   "cell_type": "markdown",
   "metadata": {},
   "source": [
    "## 10.5  Compute the median of online data"
   ]
  },
  {
   "cell_type": "code",
   "execution_count": 11,
   "metadata": {},
   "outputs": [],
   "source": [
    "def running_median(seq):\n",
    "    \"\"\"\n",
    "    Returns the running median of the given iterable\n",
    "    \"\"\"\n",
    "    left, right = [], []  # left = maxheap, right = minheap\n",
    "    for i in seq:\n",
    "        # Populate min and max heaps\n",
    "        heapq.heappush(left, -heapq.heappushpop(right, i))\n",
    "        if len(left) > len(right):\n",
    "            heapq.heappush(right, -heapq.heappop(left))\n",
    "        \n",
    "        # Compute and return median\n",
    "        if len(left) == len(right):\n",
    "            yield ((-left[0]) + right[0]) * 0.5\n",
    "        else:\n",
    "            yield right[0]\n",
    "\n",
    "# Tests\n",
    "seq = [1, 0, 3, 5, 2, 0, 1]\n",
    "medians = [med for med in running_median(iter(seq))]\n",
    "assert medians == [1, 0.5, 1, 2, 2, 1.5, 1]"
   ]
  },
  {
   "cell_type": "markdown",
   "metadata": {},
   "source": [
    "Time Complexity: `O(n log n)` to compute all medians\n",
    "\n",
    "Space Complexity: `O(n)`"
   ]
  }
 ],
 "metadata": {
  "kernelspec": {
   "display_name": "Python 3",
   "language": "python",
   "name": "python3"
  },
  "language_info": {
   "codemirror_mode": {
    "name": "ipython",
    "version": 3
   },
   "file_extension": ".py",
   "mimetype": "text/x-python",
   "name": "python",
   "nbconvert_exporter": "python",
   "pygments_lexer": "ipython3",
   "version": "3.6.0"
  }
 },
 "nbformat": 4,
 "nbformat_minor": 2
}
