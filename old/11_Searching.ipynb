{
 "cells": [
  {
   "cell_type": "markdown",
   "metadata": {},
   "source": [
    "# Chapter 11: Searching"
   ]
  },
  {
   "cell_type": "markdown",
   "metadata": {},
   "source": [
    "### Notes\n",
    "\n",
    "- If a solution uses sorting, and the computation performed after sorting is faster than sorting, look for solutions that do not perform a complete sort"
   ]
  },
  {
   "cell_type": "code",
   "execution_count": 2,
   "metadata": {},
   "outputs": [],
   "source": [
    "import bisect\n",
    "import math\n",
    "\n",
    "def binary_search(seq, x):\n",
    "    \"\"\"\n",
    "    Performs binary search for sequences of primitive types\n",
    "    \"\"\"\n",
    "    lo, hi = 0, len(seq) - 1\n",
    "    while lo <= hi:\n",
    "        mid = lo + (hi - lo) // 2\n",
    "        if x > seq[mid]:\n",
    "            lo = mid + 1\n",
    "        elif x == seq[mid]:\n",
    "            return mid\n",
    "        else:\n",
    "            hi = mid - 1\n",
    "    return None\n",
    "\n",
    "\n",
    "def binary_search_pythonic(seq, x):\n",
    "    \"\"\"\n",
    "    Performs binary search using the `bisect` module\n",
    "    \"\"\"\n",
    "    i = bisect.bisect_left(seq, x)\n",
    "    if 0 <= i < len(seq) and seq[i] == x:\n",
    "        return i\n",
    "    else:\n",
    "        None"
   ]
  },
  {
   "cell_type": "markdown",
   "metadata": {},
   "source": [
    "## 11.1  Search a sorted array for first occurence of `k`"
   ]
  },
  {
   "cell_type": "code",
   "execution_count": 2,
   "metadata": {},
   "outputs": [],
   "source": [
    "def binary_search_first(A, k):\n",
    "    \"\"\"\n",
    "    Returns the first occurence of `k` in `A` if present, else None\n",
    "    \"\"\"\n",
    "    lo, hi, result = 0, len(A) - 1, None\n",
    "    while lo <= hi:\n",
    "        mid = lo + (hi - lo) // 2\n",
    "        if k > A[mid]:\n",
    "            lo = mid + 1\n",
    "        elif k == A[mid]:\n",
    "            result = mid\n",
    "            hi = mid - 1\n",
    "        else:\n",
    "            hi = mid - 1\n",
    "    return result\n",
    "\n",
    "# Tests\n",
    "assert binary_search_first([-14, -10, 2, 108, 108, 243, 285, 285, 401], 108) == 3\n",
    "assert binary_search_first([-14, -10, 2, 108, 108, 243, 285, 285, 401], 285) == 6\n",
    "assert binary_search_first([1, 1, 1], 1) == 0"
   ]
  },
  {
   "cell_type": "code",
   "execution_count": 3,
   "metadata": {},
   "outputs": [],
   "source": [
    "def binary_search_first_pythonic(A, k):\n",
    "    \"\"\"\n",
    "    Returns the first occurence of `k` in `A` if present, else None\n",
    "    \"\"\"\n",
    "    i = bisect.bisect_left(A, k)\n",
    "    if 0 <= i < len(A):\n",
    "        return i\n",
    "    else:\n",
    "        None\n",
    "    \n",
    "# Tests\n",
    "assert binary_search_first_pythonic([-14, -10, 2, 108, 108, 243, 285, 285, 401], 108) == 3\n",
    "assert binary_search_first_pythonic([-14, -10, 2, 108, 108, 243, 285, 285, 401], 285) == 6\n",
    "assert binary_search_first_pythonic([1, 1, 1], 1) == 0"
   ]
  },
  {
   "cell_type": "code",
   "execution_count": 3,
   "metadata": {},
   "outputs": [],
   "source": [
    "# Variant 1: Design an efficient algorithm that takes a sorted array and a key, and finds the first occurence of an\n",
    "# element greater than the key,\n",
    "def binary_search_last(A, k):\n",
    "    \"\"\"\n",
    "    Returns the first occurence of `k` in `A` if present, else None\n",
    "    \"\"\"\n",
    "    lo, hi, result = 0, len(A) - 1, None\n",
    "    while lo <= hi:\n",
    "        mid = lo + (hi - lo) // 2\n",
    "        if k > A[mid]:\n",
    "            lo = mid + 1\n",
    "        elif k == A[mid]:\n",
    "            result = mid\n",
    "            lo = mid + 1\n",
    "        else:\n",
    "            hi = mid - 1\n",
    "    return result\n",
    "\n",
    "def binary_search_last_pythonic(A, k):\n",
    "    \"\"\"\n",
    "    Returns the first occurence of `k` in `A` if present, else None\n",
    "    \"\"\"\n",
    "    i =  bisect.bisect_right(A, k)\n",
    "    if A[i - 1] == k:\n",
    "        return i - 1\n",
    "    else:\n",
    "        return None\n",
    "        \n",
    "        \n",
    "# Tests\n",
    "assert binary_search_last([-14, -10, 2, 108, 108, 243, 285, 285, 401], 108) == 4\n",
    "assert binary_search_last([-14, -10, 2, 108, 108, 243, 285, 285, 401], 285) == 7\n",
    "assert binary_search_last([1, 1, 1], 1) == 2\n",
    "\n",
    "assert binary_search_last_pythonic([-14, -10, 2, 108, 108, 243, 285, 285, 401], 108) == 4\n",
    "assert binary_search_last_pythonic([-14, -10, 2, 108, 108, 243, 285, 285, 401], 285) == 7\n",
    "assert binary_search_last_pythonic([1, 1, 1], 1) == 2"
   ]
  },
  {
   "cell_type": "code",
   "execution_count": 5,
   "metadata": {},
   "outputs": [],
   "source": [
    "# Variant 2: Let A be an unsorted array of `n` integers, with A[0] >= A[1] and A[n - 1] <= A[n - 1]. Call an index `i`\n",
    "# a local minimum if A[i] is less than or equal to its neighbours. How would you efficiently find a local minimum\n",
    "# if it exists?"
   ]
  },
  {
   "cell_type": "code",
   "execution_count": 6,
   "metadata": {},
   "outputs": [],
   "source": [
    "# Variant 3: Write a program that takes a sorted array A of integers, and an integer k, and returns the interval enclosing\n",
    "# k i.e the pair of integers L and U such that L is the first occurence of k in A and U is the last occurence of k in A.\n",
    "# If k does not appear in A, return [-1, -1]\n",
    "\n",
    "def interval(A, k):\n",
    "    return [binary_search_first(A, k), binary_search_last(A, k)]\n",
    "\n",
    "# Tests\n",
    "A = [1, 2, 2, 4, 4, 4, 7, 11, 11, 13]\n",
    "assert interval(A, 11) == [7, 8]"
   ]
  },
  {
   "cell_type": "code",
   "execution_count": 7,
   "metadata": {},
   "outputs": [],
   "source": [
    "# Variant 4: Write a program to test if `p` is a prefix of a string in an array of sorted strings\n",
    "\n",
    "def str_prefix(A, p):\n",
    "    \"\"\"\n",
    "    Returns index of array if prefix, else None\n",
    "    \"\"\"\n",
    "    lo, hi = 0, len(A) - 1\n",
    "    while lo <= hi:\n",
    "        mid = lo + (hi - lo) // 2\n",
    "        if A[mid].startswith(p):\n",
    "            return mid\n",
    "        elif A[mid] < p:\n",
    "            lo = mid + 1\n",
    "        else:\n",
    "            hi = mid - 1\n",
    "    return None\n",
    "\n",
    "# Tests\n",
    "A = ['aac', 'bba', 'ssa']\n",
    "assert str_prefix(A, 'a') == 0"
   ]
  },
  {
   "cell_type": "markdown",
   "metadata": {},
   "source": [
    "## 11.3 Search a cyclically sorted array"
   ]
  },
  {
   "cell_type": "code",
   "execution_count": 8,
   "metadata": {},
   "outputs": [],
   "source": [
    "def cyclic_smallest(A):\n",
    "    \"\"\"\n",
    "    Given a sorted array of distinct integers\n",
    "    Returns the index of smallest element of a cyclically sorted array\n",
    "    \"\"\"\n",
    "    lo, hi = 0, len(A) - 1\n",
    "    while lo < hi:\n",
    "        mid = lo + (hi - lo) // 2\n",
    "        if A[mid] > A[hi]:\n",
    "            lo = mid + 1\n",
    "        elif A[mid] < A[hi]:\n",
    "            hi = mid\n",
    "    return lo\n",
    "\n",
    "\n",
    "# Tests\n",
    "assert cyclic_smallest([378, 478, 550, 631, 103, 203, 220, 234, 279, 368]) == 4"
   ]
  },
  {
   "cell_type": "markdown",
   "metadata": {},
   "source": [
    "## 11.4 Compute the integer square root"
   ]
  },
  {
   "cell_type": "code",
   "execution_count": 9,
   "metadata": {},
   "outputs": [],
   "source": [
    "def int_sqroot(n):\n",
    "    \"\"\"\n",
    "    Given a non-neg int `n`\n",
    "    Returns the largest integer whose square is less than or equal to `n`\n",
    "    \"\"\"\n",
    "    lo, hi, result = 0, n, None\n",
    "    while lo <= hi:\n",
    "        mid = lo + (hi - lo) // 2\n",
    "        mid_sqr = mid * mid\n",
    "        \n",
    "        if mid_sqr == n:\n",
    "            return mid\n",
    "        elif mid_sqr < n:\n",
    "            lo = mid + 1\n",
    "            result = mid\n",
    "        else:\n",
    "            hi = mid - 1\n",
    "    return result\n",
    "            \n",
    "\n",
    "# Tests\n",
    "assert int_sqroot(16) == 4\n",
    "assert int_sqroot(21) == 4\n",
    "assert int_sqroot(300) == 17"
   ]
  },
  {
   "cell_type": "markdown",
   "metadata": {},
   "source": [
    "## 11.5 Compute the real square root"
   ]
  },
  {
   "cell_type": "code",
   "execution_count": 20,
   "metadata": {},
   "outputs": [
    {
     "name": "stdout",
     "output_type": "stream",
     "text": [
      "4.58257569372654\n"
     ]
    }
   ],
   "source": [
    "def real_sqroot(n):\n",
    "    \"\"\"\n",
    "    Given a non-neg real number `n`\n",
    "    Returns the largest number whose square is less than or equal to `n`\n",
    "    \"\"\"\n",
    "    lo, hi = (n, 1.0) if n < 1.0 else (1.0, n)\n",
    "    while not math.isclose(lo, hi):\n",
    "        mid = 0.5 * (lo + hi)\n",
    "        if mid*mid > n:\n",
    "            hi = mid\n",
    "        else:\n",
    "            lo = mid\n",
    "    return lo\n",
    "\n",
    "# Tests\n",
    "assert math.isclose(real_sqroot(0.25), 0.5)"
   ]
  },
  {
   "cell_type": "markdown",
   "metadata": {},
   "source": [
    "## 11.6 Find the kth largest element"
   ]
  },
  {
   "cell_type": "code",
   "execution_count": 17,
   "metadata": {},
   "outputs": [],
   "source": [
    "import random\n",
    "\n",
    "def find_kth_largest(A, k):\n",
    "    \"\"\"\n",
    "    Returns the kth largest elements of A\n",
    "    \"\"\"\n",
    "    def partition_around_pivot(left, right, pivot_id):\n",
    "        \"\"\"\n",
    "        Partitions A around pivot_id and returns the new pivot id\n",
    "        \"\"\"\n",
    "        pivot_value = A[pivot_id]\n",
    "        new_pivot_id = left\n",
    "        A[pivot_id], A[right] = A[right], A[pivot_id]\n",
    "        for i in range(left, right):\n",
    "            if A[i] > pivot_value:\n",
    "                A[new_pivot_id], A[i] = A[i], A[new_pivot_id]\n",
    "                new_pivot_id += 1\n",
    "        A[new_pivot_id], A[right] = A[right], A[new_pivot_id]\n",
    "        return new_pivot_id\n",
    "    \n",
    "    left, right = 0, len(A) - 1\n",
    "    while left <= right:\n",
    "        pivot_id = random.randint(left, right)\n",
    "        new_pivot_id = partition_around_pivot(left, right, pivot_id)\n",
    "        if new_pivot_id == k - 1:\n",
    "            return A[new_pivot_id]\n",
    "        elif new_pivot_id < k - 1:\n",
    "            left = new_pivot_id + 1\n",
    "        else:\n",
    "            right = new_pivot_id - 1\n",
    "    \n",
    "# Tests\n",
    "A = [3, 1, -1, 2]\n",
    "assert find_kth_largest(A, 1) == 3\n",
    "assert find_kth_largest(A, 2) == 2\n",
    "assert find_kth_largest(A, 3) == 1\n",
    "assert find_kth_largest(A, 4) == -1"
   ]
  },
  {
   "cell_type": "code",
   "execution_count": 32,
   "metadata": {},
   "outputs": [],
   "source": [
    "import math\n",
    "\n",
    "# Variant 1: Design an algorithm to find the median of an array\n",
    "def mean_of_2(a, b):\n",
    "    \"\"\"\n",
    "    Returns the mean of `a` and `b`\n",
    "    \"\"\"\n",
    "    return 0.5 * (a + b)\n",
    "\n",
    "\n",
    "def median(A):\n",
    "    \"\"\"\n",
    "    Returns the median of the given array\n",
    "    \"\"\"\n",
    "    if len(A) % 2 == 0:\n",
    "        return mean_of_2(A[find_kth_largest(A, len(A)/2)], \n",
    "                         A[find_kth_largest(A, len(A)/2 + 1)])\n",
    "    else:\n",
    "        return A[find_kth_largest(A, math.ceil(len(A)/2))]\n",
    "\n",
    "# Tests\n",
    "B = [3, 1, -1, 2]\n",
    "assert median(B) == 1.5\n",
    "B.append(5)\n",
    "assert median(B) == 2"
   ]
  },
  {
   "cell_type": "markdown",
   "metadata": {},
   "source": [
    "# 11.10 Find the duplicate and missing elements"
   ]
  },
  {
   "cell_type": "code",
   "execution_count": 12,
   "metadata": {},
   "outputs": [],
   "source": [
    "from collections import namedtuple\n",
    "from functools import reduce\n",
    "\n",
    "\n",
    "DuplicateAndMissing = namedtuple('DuplicateAndMissing', ('duplicate', 'missing'))\n",
    "\n",
    "def find_duplicate_missing(A):\n",
    "    \"\"\"\n",
    "    Returns a tuple of a duplicate and missing element from the given sequence\n",
    "    \"\"\"\n",
    "    miss_dup_xor = functools.reduce(lambda acc, x: acc ^ x[0] ^ x[1],\n",
    "                                   enumerate(A),\n",
    "                                   0)\n",
    "    \n",
    "    differ_bit = miss_dup_xor & ~(miss_dup_xor - 1)\n",
    "    miss_or_dup = 0\n",
    "    \n",
    "    for i, a in enumerate(A):\n",
    "        if i & differ_bit:\n",
    "            miss_or_dup ^= i\n",
    "        if a & differ_bit:\n",
    "            miss_or_dup ^= a\n",
    "    \n",
    "    # miss_or_dup = dup\n",
    "    if miss_or_dup in A:\n",
    "        return DuplicateAndMissing(miss_or_dup, miss_or_dup ^ miss_dup_xor)\n",
    "    # miss_or_dup = miss\n",
    "    else:\n",
    "        return DuplicateAndMissing(miss_or_dup ^ miss_dup_xor, miss_or_dup)\n",
    "\n",
    "# Tests\n",
    "A = [5, 3, 0, 3, 2, 1]\n",
    "assert find_duplicate_missing(A).duplicate == 3\n",
    "assert find_duplicate_missing(A).missing == 4"
   ]
  }
 ],
 "metadata": {
  "kernelspec": {
   "display_name": "Python 3",
   "language": "python",
   "name": "python3"
  },
  "language_info": {
   "codemirror_mode": {
    "name": "ipython",
    "version": 3
   },
   "file_extension": ".py",
   "mimetype": "text/x-python",
   "name": "python",
   "nbconvert_exporter": "python",
   "pygments_lexer": "ipython3",
   "version": "3.6.0"
  }
 },
 "nbformat": 4,
 "nbformat_minor": 2
}
