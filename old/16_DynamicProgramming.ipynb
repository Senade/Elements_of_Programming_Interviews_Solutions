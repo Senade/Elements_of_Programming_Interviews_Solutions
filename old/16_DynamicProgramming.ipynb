{
 "cells": [
  {
   "cell_type": "markdown",
   "metadata": {},
   "source": [
    "# Chapter 16: Dynamic Programming"
   ]
  },
  {
   "cell_type": "markdown",
   "metadata": {},
   "source": [
    "## Notes:\n",
    "\n",
    "\n",
    "__Steps to solve a problem using Dynamic Programming__\n",
    "\n",
    "    1. Formulate the answer as a recurrence relation or a recursive algorithm\n",
    "    2. Show that the number of different parameter values taken on by the recurrence is bounded(hopefully) by a polynomial\n",
    "    3. Specify an order of evaluation for the recurrence so the partial results that are needed are always available when they are needed\n",
    "\n",
    "__When are DP algorithms correct?__\n",
    "\n",
    "- Without an inherent left-to-right ordering on the objects, DP is resigned to require exponential space and time as it's not clear what the _smaller_ subproblems are.\n",
    "\n",
    "- Dynamic programming can be applied to any problem that observes the _principle of optimality_. This means that partial solutions can be optimally extended with regard to the _state_ after the partial solution, instead of the specifics of the partial solution itself. i.e Future decisions are made based on the _consequences_ of previous decisions, not the actual decisions themselves."
   ]
  },
  {
   "cell_type": "markdown",
   "metadata": {},
   "source": [
    "## 16.2 Levenshtein distance"
   ]
  },
  {
   "cell_type": "markdown",
   "metadata": {},
   "source": [
    "Recursive solution"
   ]
  },
  {
   "cell_type": "code",
   "execution_count": 11,
   "metadata": {},
   "outputs": [],
   "source": [
    "def levenshtein_distance_recur(A, B):\n",
    "    \"\"\"\n",
    "    Returns the levenshtein distance between strings A and B\n",
    "    \"\"\"\n",
    "    cache = [[None] * len(B) for _ in A]\n",
    "\n",
    "    def compute_distance(a, b):\n",
    "        \"\"\"\n",
    "        Computes and returns the distance between A[:a] and B[:b]\n",
    "        \"\"\"\n",
    "        if a < 0:\n",
    "            # A is empty. Insert all of B's characters\n",
    "            return b + 1\n",
    "        elif b < 0:\n",
    "            # B is empty. Delete all of A's characters\n",
    "            return a + 1\n",
    "        \n",
    "        if not cache[a][b]:\n",
    "            if A[a] == B[b]:\n",
    "                cache[a][b] = compute_distance(a - 1, b - 1)\n",
    "            else:\n",
    "                substitute = compute_distance(a - 1, b - 1)\n",
    "                insert = compute_distance(a, b - 1)\n",
    "                delete = compute_distance(a - 1, b)\n",
    "                cache[a][b] = 1 + min(substitute, insert, delete)\n",
    "\n",
    "        return cache[a][b]\n",
    "    return compute_distance(len(A) - 1, len(B) - 1)\n",
    "\n",
    "\n",
    "# Tests\n",
    "assert levenshtein_distance_recur(\"Carthorse\", \"Orchestra\") == 8\n",
    "assert levenshtein_distance_recur(\"Saturday\", \"Sundays\") == 4"
   ]
  },
  {
   "cell_type": "markdown",
   "metadata": {},
   "source": [
    "Iterative solution"
   ]
  },
  {
   "cell_type": "code",
   "execution_count": 42,
   "metadata": {},
   "outputs": [],
   "source": [
    "def levenshtein_distance_iter(A, B):\n",
    "    \"\"\"\n",
    "    Returns the levenshtein distance between strings A and B\n",
    "    \"\"\"\n",
    "    a, b = len(A), len(B)\n",
    "    \n",
    "    # Base cases\n",
    "    if a == 0: return b\n",
    "    elif b == 0: return a\n",
    "    \n",
    "    # Initialize cache\n",
    "    cache = [[None]*(b + 1) for _ in range(a + 1)]\n",
    "    \n",
    "    # Initialize base row and column\n",
    "    for i in range(b+1):\n",
    "        cache[0][i] = i\n",
    "    for j in range(a+1):\n",
    "        cache[j][0] = j\n",
    "    \n",
    "    # Populate cache\n",
    "    for i in range(1, a + 1):\n",
    "        for j in range(1, b + 1):\n",
    "            if A[i - 1] == B[j - 1]:\n",
    "                val = cache[i - 1][j - 1]\n",
    "            else:\n",
    "                sub = cache[i - 1][j - 1]\n",
    "                insert = cache[i - 1][j]\n",
    "                delete = cache[i][j - 1]\n",
    "                val = min(sub, insert, delete) + 1\n",
    "            cache[i][j] = val\n",
    "    \n",
    "    # Return goal cell\n",
    "    return cache[a][b]\n",
    "\n",
    "# Tests\n",
    "assert levenshtein_distance_iter(\"Carthorse\", \"Orchestra\") == 8\n",
    "assert levenshtein_distance_iter(\"Saturday\", \"Sundays\") == 4\n",
    "assert levenshtein_distance_iter(\"Saturday\", \"\") == 8\n",
    "assert levenshtein_distance_iter(\"\", \"Sundays\") == 7"
   ]
  },
  {
   "cell_type": "markdown",
   "metadata": {},
   "source": [
    "### Variant: Given A and B as above, compute the longest sequence of characters that is a subsequence of A and of B. "
   ]
  },
  {
   "cell_type": "markdown",
   "metadata": {},
   "source": [
    "_1. Formulate the answer as a recurrence relation or a recursive algorithm_"
   ]
  },
  {
   "cell_type": "code",
   "execution_count": 49,
   "metadata": {},
   "outputs": [],
   "source": [
    "def lcs_recur(A, B):\n",
    "    \"\"\"\n",
    "    Returns the length of the longest common subsequence of A and B\n",
    "    \"\"\"\n",
    "    if not A or not B:\n",
    "        return 0\n",
    "    \n",
    "    def helper(a, b):\n",
    "        if a < 0 or b < 0:\n",
    "            return 0\n",
    "        elif A[a] == B[b]:\n",
    "            return 1 + helper(a - 1, b - 1)\n",
    "        else:\n",
    "            return max(helper(a - 1, b), helper(a, b - 1))\n",
    "\n",
    "    return helper(len(A) - 1, len(B) - 1)\n",
    "            \n",
    "# Tests\n",
    "assert lcs_recur(\"Carthorse\", \"Orchestra\") == 3  # [r, h, s]"
   ]
  },
  {
   "cell_type": "markdown",
   "metadata": {},
   "source": [
    "_2. Show that the number of different parameter values taken on by the recurrence is bounded(hopefully) by a polynomial_\n",
    "\n",
    "Since the parameters to the recursive function are `a` and `b`, the upper bound is `a x b`"
   ]
  },
  {
   "cell_type": "markdown",
   "metadata": {},
   "source": [
    "_3. Specify an order of evaluation for the recurrence so the partial results that are needed are always available when they are needed_"
   ]
  },
  {
   "cell_type": "code",
   "execution_count": 53,
   "metadata": {},
   "outputs": [],
   "source": [
    "def lcs_dp(A, B):\n",
    "    \"\"\"\n",
    "    Returns the length of the longest common subsequence of A and B\n",
    "    \"\"\"\n",
    "    # Base cases\n",
    "    if not A or not B: return 0\n",
    "    \n",
    "    a, b = len(A), len(B)\n",
    "    \n",
    "    # Initialize cache\n",
    "    cache = [[None] * (b + 1) for _ in range(a + 1)]\n",
    "    \n",
    "    # Initialize base row and column\n",
    "    for i in range(a + 1):\n",
    "        cache[0][i] = 0  # first row\n",
    "    for j in range(b + 1):\n",
    "        cache[j][0] = 0  # first column\n",
    "    \n",
    "    # Populate cache\n",
    "    for i in range(1, a + 1):\n",
    "        for j in range(1, b + 1):\n",
    "            if A[i - 1] == B[j - 1]:\n",
    "                val = 1 + cache[i - 1][j - 1]\n",
    "            else:\n",
    "                val = max(cache[i - 1][j], cache[i][j - 1])\n",
    "            cache[i][j] = val\n",
    "    \n",
    "    # Return goal cell\n",
    "    return cache[a][b]\n",
    "        \n",
    "# Tests\n",
    "assert lcs_dp(\"Carthorse\", \"Orchestra\") == 3  # [r, h, s]"
   ]
  },
  {
   "cell_type": "markdown",
   "metadata": {},
   "source": [
    "### Variant 3: Given a string A, compute the minimum number  of characters you need to delete from A to make the resulting string a palindrome."
   ]
  },
  {
   "cell_type": "code",
   "execution_count": null,
   "metadata": {},
   "outputs": [],
   "source": [
    "def palindrome_edit_distance(A):\n",
    "    \"\"\"\n",
    "    Returns the minimum number of characters that are to be deleted from A to make it a palindrome\n",
    "    \"\"\"\n",
    "    pass\n",
    "\n"
   ]
  }
 ],
 "metadata": {
  "kernelspec": {
   "display_name": "Python 3",
   "language": "python",
   "name": "python3"
  },
  "language_info": {
   "codemirror_mode": {
    "name": "ipython",
    "version": 3
   },
   "file_extension": ".py",
   "mimetype": "text/x-python",
   "name": "python",
   "nbconvert_exporter": "python",
   "pygments_lexer": "ipython3",
   "version": "3.6.0"
  }
 },
 "nbformat": 4,
 "nbformat_minor": 2
}
